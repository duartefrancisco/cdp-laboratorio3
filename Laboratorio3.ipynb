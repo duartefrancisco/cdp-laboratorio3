{
 "cells": [
  {
   "cell_type": "markdown",
   "id": "c4b3ca96-c1d4-486a-b39d-8e7f708ffa39",
   "metadata": {},
   "source": [
    "# Laboratorio #3"
   ]
  },
  {
   "cell_type": "markdown",
   "id": "06d2d5c1-056a-4f87-a2f8-b17ce137abc2",
   "metadata": {},
   "source": [
    "\n",
    "## 6. Cree un programa en Python que dada una lista de tuplas, elimine las tuplas que están vacías. Tomar nota del siguiente ejemplo:\n",
    "- Si la lista fuera: [(), (), (’X’,), (’a’, ’b’), (’a’, ’b’, ’c’), (’d’)] \n",
    "- El resultado deberíaa ser: [(’X’), (’a’, ’b’), (’a’, ’b’, ’c’), ’d’]\n",
    "## 7. Cree una función en Python que dada una tupla de tuplas con numeros, produzca una tupla con el promedio de cada tupla individual. Tomar nota del siguiente ejemplo:\n",
    "- Si la tupla de entrada fuera: ((10, 10, 10, 12), (30, 45, 56, 45), (81, 80, 39, 32)) \n",
    "- El resultado deber ́ıa ser: (10.5, 44, 58)"
   ]
  },
  {
   "cell_type": "markdown",
   "id": "12fa6693-9e96-44b7-827a-576aa36b7b29",
   "metadata": {},
   "source": [
    "## 1. Cree un procedimiento en Python dado un número entero en decimal despliegue su representación en número binario."
   ]
  },
  {
   "cell_type": "code",
   "execution_count": 20,
   "id": "cf79a2b7-5087-4d8d-a73c-d14816f4a0c6",
   "metadata": {},
   "outputs": [],
   "source": [
    "def ConvertirDecimalABinario(decimal):\n",
    "    binario = []\n",
    "    \n",
    "    print(f\"Número decimal: {decimal}\")\n",
    "    \n",
    "    while(decimal != 0):\n",
    "        binario.insert(0, str(decimal % 2)) \n",
    "        decimal = decimal // 2\n",
    "        \n",
    "    print(f\"Representación en binario: {''.join(binario)}\")"
   ]
  },
  {
   "cell_type": "code",
   "execution_count": 21,
   "id": "07de7d32-40e9-4f01-81aa-c591eef52a2e",
   "metadata": {},
   "outputs": [
    {
     "name": "stdout",
     "output_type": "stream",
     "text": [
      "Número decimal: 138\n",
      "Representación en binario: 10001010\n"
     ]
    }
   ],
   "source": [
    "ConvertirDecimalABinario(138)"
   ]
  },
  {
   "cell_type": "markdown",
   "id": "a64344fb-f2e5-4f24-a1c8-08543e558a5c",
   "metadata": {},
   "source": [
    "## 2. Desarrolle en Python una función que devuelva verdadero si un número entero que recibe como parámetro es primo y devuelva falso en el caso contrario."
   ]
  },
  {
   "cell_type": "code",
   "execution_count": 44,
   "id": "5506cb8f-138f-4042-ab4b-e98383625d70",
   "metadata": {},
   "outputs": [],
   "source": [
    "def EsNumeroPrimo(numero):\n",
    "    if(numero < 1 or numero == 1 or numero == 2):\n",
    "        return False\n",
    "    \n",
    "    for divisor in range(2, numero):\n",
    "        if(numero % divisor == 0):\n",
    "            return False\n",
    "        \n",
    "    return True\n",
    "    "
   ]
  },
  {
   "cell_type": "code",
   "execution_count": 45,
   "id": "4736dbc3-de6b-42e9-9307-3d4d0d9bf142",
   "metadata": {},
   "outputs": [
    {
     "data": {
      "text/plain": [
       "False"
      ]
     },
     "execution_count": 45,
     "metadata": {},
     "output_type": "execute_result"
    }
   ],
   "source": [
    "EsNumeroPrimo(33)"
   ]
  },
  {
   "cell_type": "markdown",
   "id": "1fa1de94-8afa-4e8e-834f-2d894c85127c",
   "metadata": {},
   "source": [
    "## 3. Haga un programa en Python que dada una lista de n números, calcule la desviación estándar del conjunto de números, para este ejercicio no puede utilizar ninguna función que resuelva el problema."
   ]
  },
  {
   "cell_type": "code",
   "execution_count": 49,
   "id": "ac4bfe6b-7a0a-47b6-aaea-710ee59adfd9",
   "metadata": {},
   "outputs": [],
   "source": [
    "import math"
   ]
  },
  {
   "cell_type": "code",
   "execution_count": 50,
   "id": "9aa4d309-2c3a-44af-9807-98ccb7bb497e",
   "metadata": {},
   "outputs": [],
   "source": [
    "\n",
    "def DesviacionEstandar(numeros):\n",
    "    media = sum(numeros) / len(numeros)\n",
    "    deltasAlCuadrado = [(x - media)**2 for x in numeros]\n",
    "    varianza = sum(deltasAlCuadrado) / len(numeros)\n",
    "    \n",
    "    return math.sqrt(varianza)\n"
   ]
  },
  {
   "cell_type": "code",
   "execution_count": 51,
   "id": "c5346d12-ddd7-4ad1-929f-a5a72d233961",
   "metadata": {},
   "outputs": [
    {
     "data": {
      "text/plain": [
       "28.469281690973517"
      ]
     },
     "execution_count": 51,
     "metadata": {},
     "output_type": "execute_result"
    }
   ],
   "source": [
    "DesviacionEstandar([20,25,61,90])"
   ]
  },
  {
   "cell_type": "markdown",
   "id": "ecef32e7-6420-413f-b5d2-8debe20f1acc",
   "metadata": {},
   "source": [
    "## 4. Desarrolle en Python una función que dado un arreglo de corra el algoritmo de ordenamiento burbuja y devuelva un nuevo arreglo ordenado. Posteriormente cree una función main para probar su función."
   ]
  },
  {
   "cell_type": "code",
   "execution_count": 10,
   "id": "fe20f5f9-1ae6-4548-94a4-c0b49dd4d6b0",
   "metadata": {},
   "outputs": [],
   "source": [
    "def OrdenamientoBurbuja(numeros):\n",
    "    valores = numeros\n",
    "    \n",
    "    for i in range(0,len(valores)):\n",
    "        for j in range(0, len(valores) - 1):\n",
    "            if valores[j] > valores[j +1]:\n",
    "                auxiliar = valores[j]\n",
    "                valores[j] = valores[j +1]\n",
    "                valores[j +1] = auxiliar\n",
    "\n",
    "    return valores"
   ]
  },
  {
   "cell_type": "code",
   "execution_count": 12,
   "id": "49692935-5ab0-4a09-bfb4-51dffc00f0f6",
   "metadata": {},
   "outputs": [
    {
     "name": "stdout",
     "output_type": "stream",
     "text": [
      "El arreglo original es: [10, 5, 1, 3, 2, 4, 6, 8, 7, 9]\n",
      "El arreglo ordenado es: [1, 2, 3, 4, 5, 6, 7, 8, 9, 10]\n"
     ]
    }
   ],
   "source": [
    "def main():\n",
    "    valores = [10,5,1,3,2,4,6,8,7,9]\n",
    "    print(f\"El arreglo original es: {valores}\")\n",
    "    print(f\"El arreglo ordenado es: {OrdenamientoBurbuja(valores)}\")\n",
    "\n",
    "if __name__ == \"__main__\":\n",
    "    main()"
   ]
  },
  {
   "cell_type": "markdown",
   "id": "73c5d751-36b7-4e65-a003-8e180dd50dc4",
   "metadata": {},
   "source": [
    "## 5. Escriba una función en Python que dada una tupla de elementos (numeros o letras) esta se convierta a un string. Tomar nota del siguiente ejemplo:\n",
    "- Si la entrada fuera: (10, 20, 40, 5, 70) \n",
    "- La salida debería ser: 102040570"
   ]
  },
  {
   "cell_type": "code",
   "execution_count": 16,
   "id": "b81754c0-2ee6-4232-8211-ef4121327e06",
   "metadata": {},
   "outputs": [
    {
     "data": {
      "text/plain": [
       "'102040570'"
      ]
     },
     "execution_count": 16,
     "metadata": {},
     "output_type": "execute_result"
    }
   ],
   "source": [
    "def TuplaAString(tupla):\n",
    "    cadena = \"\"\n",
    "    for i in tupla:\n",
    "        cadena += str(i)\n",
    "    \n",
    "    return cadena\n",
    "\n",
    "TuplaAString((10,20,40,5,70))"
   ]
  },
  {
   "cell_type": "code",
   "execution_count": null,
   "id": "ee4d9145-ddab-4ebb-9245-557758cff2d7",
   "metadata": {},
   "outputs": [],
   "source": []
  }
 ],
 "metadata": {
  "kernelspec": {
   "display_name": "Python 3 (ipykernel)",
   "language": "python",
   "name": "python3"
  },
  "language_info": {
   "codemirror_mode": {
    "name": "ipython",
    "version": 3
   },
   "file_extension": ".py",
   "mimetype": "text/x-python",
   "name": "python",
   "nbconvert_exporter": "python",
   "pygments_lexer": "ipython3",
   "version": "3.9.7"
  }
 },
 "nbformat": 4,
 "nbformat_minor": 5
}
