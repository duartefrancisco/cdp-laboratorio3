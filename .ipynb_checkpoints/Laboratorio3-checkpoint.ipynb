{
 "cells": [
  {
   "cell_type": "markdown",
   "id": "c4b3ca96-c1d4-486a-b39d-8e7f708ffa39",
   "metadata": {},
   "source": [
    "# Laboratorio #3"
   ]
  },
  {
   "cell_type": "markdown",
   "id": "06d2d5c1-056a-4f87-a2f8-b17ce137abc2",
   "metadata": {},
   "source": [
    "## 1. Cree un procedimiento en Python dado un número entero en decimal despliegue su representación en número binario.\n",
    "## 2. Desarrolle en Python una función que devuelva verdadero si un número entero que recibe como parámetro es primo y devuelva falso en el caso contrario.\n",
    "## 3. Haga un programa en Python que dada una lista de n números, calcule la desviación estándar del conjunto de números, para este ejercicio no puede utilizar ninguna función que resuelva el problema.\n",
    "## 4. Desarrolle en Python una función que dado un arreglo de corra el algoritmo de ordenamiento burbuja y devuelva un nuevo arreglo ordenado. Posteriormente cree una función main para probar su función.\n",
    "## 5. Escriba una función en Python que dada una tupla de elementos (numeros o letras) esta se convierta a un string. Tomar nota del siguiente ejemplo:\n",
    "- Si la entrada fuera: (10, 20, 40, 5, 70) \n",
    "- La salida debería ser: 102040570\n",
    "## 6. Cree un programa en Python que dada una lista de tuplas, elimine las tuplas que están vacías. Tomar nota del siguiente ejemplo:\n",
    "- Si la lista fuera: [(), (), (’X’,), (’a’, ’b’), (’a’, ’b’, ’c’), (’d’)] \n",
    "- El resultado deberíaa ser: [(’X’), (’a’, ’b’), (’a’, ’b’, ’c’), ’d’]\n",
    "## 7. Cree una función en Python que dada una tupla de tuplas con numeros, produzca una tupla con el promedio de cada tupla individual. Tomar nota del siguiente ejemplo:\n",
    "- Si la tupla de entrada fuera: ((10, 10, 10, 12), (30, 45, 56, 45), (81, 80, 39, 32)) \n",
    "- El resultado deber ́ıa ser: (10.5, 44, 58)"
   ]
  },
  {
   "cell_type": "code",
   "execution_count": null,
   "id": "cf79a2b7-5087-4d8d-a73c-d14816f4a0c6",
   "metadata": {},
   "outputs": [],
   "source": []
  }
 ],
 "metadata": {
  "kernelspec": {
   "display_name": "Python 3 (ipykernel)",
   "language": "python",
   "name": "python3"
  },
  "language_info": {
   "codemirror_mode": {
    "name": "ipython",
    "version": 3
   },
   "file_extension": ".py",
   "mimetype": "text/x-python",
   "name": "python",
   "nbconvert_exporter": "python",
   "pygments_lexer": "ipython3",
   "version": "3.9.7"
  }
 },
 "nbformat": 4,
 "nbformat_minor": 5
}
